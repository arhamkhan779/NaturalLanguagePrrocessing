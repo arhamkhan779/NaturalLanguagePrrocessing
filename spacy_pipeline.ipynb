{
 "cells": [
  {
   "cell_type": "code",
   "execution_count": 1,
   "metadata": {},
   "outputs": [],
   "source": [
    "import spacy"
   ]
  },
  {
   "cell_type": "code",
   "execution_count": 2,
   "metadata": {},
   "outputs": [],
   "source": [
    "pipeline=spacy.load(\"en_core_web_sm\")"
   ]
  },
  {
   "cell_type": "code",
   "execution_count": 3,
   "metadata": {},
   "outputs": [
    {
     "data": {
      "text/plain": [
       "['tok2vec', 'tagger', 'parser', 'attribute_ruler', 'lemmatizer', 'ner']"
      ]
     },
     "execution_count": 3,
     "metadata": {},
     "output_type": "execute_result"
    }
   ],
   "source": [
    "pipeline.pipe_names"
   ]
  },
  {
   "cell_type": "code",
   "execution_count": 7,
   "metadata": {},
   "outputs": [
    {
     "name": "stdout",
     "output_type": "stream",
     "text": [
      "Arham | PROPN | Arham\n",
      "khan | PROPN | khan\n",
      "is | AUX | be\n",
      "a | DET | a\n",
      "good | ADJ | good\n",
      "boy | NOUN | boy\n",
      "he | PRON | he\n",
      "said | VERB | say\n"
     ]
    }
   ],
   "source": [
    "doc=pipeline(\"Arham khan is a good boy he said\")\n",
    "for word in doc:\n",
    "    print(f\"{word} | {word.pos_} | {word.lemma_}\")"
   ]
  },
  {
   "cell_type": "code",
   "execution_count": 12,
   "metadata": {},
   "outputs": [
    {
     "name": "stdout",
     "output_type": "stream",
     "text": [
      "Arham khan | PERSON | People, including fictional\n"
     ]
    }
   ],
   "source": [
    "from spacy import displacy\n",
    "for ent in doc.ents:\n",
    "    print((f\"{ent.text} | {ent.label_} | {spacy.explain(ent.label_)}\"))"
   ]
  },
  {
   "cell_type": "code",
   "execution_count": 18,
   "metadata": {},
   "outputs": [
    {
     "data": {
      "text/html": [
       "<span class=\"tex2jax_ignore\"><div class=\"entities\" style=\"line-height: 2.5; direction: ltr\">\n",
       "<mark class=\"entity\" style=\"background: #aa9cfc; padding: 0.45em 0.6em; margin: 0 0.25em; line-height: 1; border-radius: 0.35em;\">\n",
       "    Arham khan\n",
       "    <span style=\"font-size: 0.8em; font-weight: bold; line-height: 1; border-radius: 0.35em; vertical-align: middle; margin-left: 0.5rem\">PERSON</span>\n",
       "</mark>\n",
       " is a good boy he said</div></span>"
      ],
      "text/plain": [
       "<IPython.core.display.HTML object>"
      ]
     },
     "metadata": {},
     "output_type": "display_data"
    },
    {
     "name": "stdout",
     "output_type": "stream",
     "text": [
      "None\n"
     ]
    }
   ],
   "source": [
    "print(displacy.render(doc,style=\"ent\"))"
   ]
  },
  {
   "cell_type": "code",
   "execution_count": 19,
   "metadata": {},
   "outputs": [
    {
     "name": "stdout",
     "output_type": "stream",
     "text": [
      "['ner']\n"
     ]
    }
   ],
   "source": [
    "source_pipe=spacy.load(\"en_core_web_sm\")\n",
    "nlp=spacy.blank(\"en\")\n",
    "nlp.add_pipe(\"ner\",source=source_pipe)\n",
    "print(nlp.pipe_names)"
   ]
  },
  {
   "cell_type": "code",
   "execution_count": 20,
   "metadata": {},
   "outputs": [],
   "source": [
    "from nltk.stem import PorterStemmer\n",
    "stemmer=PorterStemmer()"
   ]
  },
  {
   "cell_type": "code",
   "execution_count": 24,
   "metadata": {},
   "outputs": [
    {
     "name": "stdout",
     "output_type": "stream",
     "text": [
      "he | he\n",
      "ate | ate\n",
      "too | too\n",
      "much | much\n",
      "so | so\n",
      "he | he\n",
      "got | got\n",
      "diaohrea | diaohrea\n",
      " | \n",
      "and | and\n",
      "now | now\n",
      "he | he\n",
      "is | is\n",
      "ill,there | ill,ther\n",
      "is | is\n",
      "a | a\n",
      "time | time\n",
      "he | he\n",
      "is | is\n",
      "running | run\n",
      "and | and\n",
      "falling | fall\n"
     ]
    }
   ],
   "source": [
    "text=\"he ate too much so he got diaohrea  and now he is ill,there is a time he is running and falling\"\n",
    "text=text.split(' ')\n",
    "for word in text:\n",
    "    print(f\"{word} | {stemmer.stem(word)}\")"
   ]
  },
  {
   "cell_type": "code",
   "execution_count": 26,
   "metadata": {},
   "outputs": [
    {
     "name": "stdout",
     "output_type": "stream",
     "text": [
      "Arham | Arham\n",
      "khan | khan\n",
      "is | be\n",
      "running | run\n",
      "and | and\n",
      "falling | fall\n",
      "from | from\n",
      "a | a\n",
      "building | building\n",
      "in | in\n",
      "past | past\n",
      "some | some\n",
      "days | day\n",
      ", | ,\n",
      "he | he\n",
      "was | be\n",
      "better | well\n",
      "and | and\n",
      "best | well\n",
      "in | in\n",
      "his | his\n",
      "skills | skill\n",
      ", | ,\n",
      "I | I\n",
      "nver | nver\n",
      "saw | see\n",
      "someone | someone\n"
     ]
    }
   ],
   "source": [
    "import spacy\n",
    "pipeline=spacy.load(\"en_core_web_sm\")\n",
    "doc=\"Arham khan is running and falling from a building in past some days , he was better and best in his skills , I nver saw someone\"\n",
    "document=pipeline(doc)\n",
    "for word in document:\n",
    "    print(f\"{word} | {word.lemma_}\")"
   ]
  },
  {
   "cell_type": "code",
   "execution_count": 28,
   "metadata": {},
   "outputs": [],
   "source": [
    "nlp=spacy.load(\"en_core_web_sm\")\n",
    "ar=nlp.get_pipe(\"attribute_ruler\")\n",
    "ar.add([[{\"Text\":\"Bro\"}],[{\"Text\":\"Brah\"}]],{\"LEMMA\":\"Brother\"})"
   ]
  },
  {
   "cell_type": "code",
   "execution_count": 29,
   "metadata": {},
   "outputs": [
    {
     "name": "stdout",
     "output_type": "stream",
     "text": [
      "The | the\n",
      "Bro | Brother\n",
      "is | be\n",
      "so | so\n",
      "good | good\n",
      "and | and\n",
      "i | I\n",
      "call | call\n",
      "him | he\n",
      "Brah | Brother\n"
     ]
    }
   ],
   "source": [
    "doc=\"The Bro is so good and i call him Brah\"\n",
    "document=nlp(doc)\n",
    "for token in document:\n",
    "    print(f\"{token} | {token.lemma_}\")"
   ]
  },
  {
   "cell_type": "code",
   "execution_count": null,
   "metadata": {},
   "outputs": [],
   "source": []
  }
 ],
 "metadata": {
  "kernelspec": {
   "display_name": "venv",
   "language": "python",
   "name": "python3"
  },
  "language_info": {
   "codemirror_mode": {
    "name": "ipython",
    "version": 3
   },
   "file_extension": ".py",
   "mimetype": "text/x-python",
   "name": "python",
   "nbconvert_exporter": "python",
   "pygments_lexer": "ipython3",
   "version": "3.12.5"
  }
 },
 "nbformat": 4,
 "nbformat_minor": 2
}
