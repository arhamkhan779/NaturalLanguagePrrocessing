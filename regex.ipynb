{
 "cells": [
  {
   "cell_type": "code",
   "execution_count": 1,
   "metadata": {},
   "outputs": [],
   "source": [
    "import re"
   ]
  },
  {
   "cell_type": "code",
   "execution_count": 8,
   "metadata": {},
   "outputs": [
    {
     "name": "stdout",
     "output_type": "stream",
     "text": [
      "['03003020167', '(92)-300-3020-167']\n"
     ]
    },
    {
     "name": "stderr",
     "output_type": "stream",
     "text": [
      "<>:2: SyntaxWarning: invalid escape sequence '\\d'\n",
      "<>:4: SyntaxWarning: invalid escape sequence '\\d'\n",
      "<>:2: SyntaxWarning: invalid escape sequence '\\d'\n",
      "<>:4: SyntaxWarning: invalid escape sequence '\\d'\n",
      "C:\\Users\\ARHAM KHAN\\AppData\\Local\\Temp\\ipykernel_15860\\1719390390.py:2: SyntaxWarning: invalid escape sequence '\\d'\n",
      "  pattern='\\d{11}|\\(\\d{2}\\)-\\d{3}-\\d{4}-\\d{3}'\n",
      "C:\\Users\\ARHAM KHAN\\AppData\\Local\\Temp\\ipykernel_15860\\1719390390.py:4: SyntaxWarning: invalid escape sequence '\\d'\n",
      "  matches=re.findall('\\d{11}|\\(\\d{2}\\)-\\d{3}-\\d{4}-\\d{3}',text)\n"
     ]
    }
   ],
   "source": [
    "text=\"My name is Arham Khan and my phone number is 03003020167 and other one is (92)-300-3020-167\"\n",
    "pattern='\\d{11}|\\(\\d{2}\\)-\\d{3}-\\d{4}-\\d{3}'\n",
    "matches=re.findall(pattern,text)\n",
    "print(matches)"
   ]
  },
  {
   "cell_type": "code",
   "execution_count": null,
   "metadata": {},
   "outputs": [],
   "source": []
  }
 ],
 "metadata": {
  "kernelspec": {
   "display_name": "venv",
   "language": "python",
   "name": "python3"
  },
  "language_info": {
   "codemirror_mode": {
    "name": "ipython",
    "version": 3
   },
   "file_extension": ".py",
   "mimetype": "text/x-python",
   "name": "python",
   "nbconvert_exporter": "python",
   "pygments_lexer": "ipython3",
   "version": "3.12.5"
  }
 },
 "nbformat": 4,
 "nbformat_minor": 2
}
