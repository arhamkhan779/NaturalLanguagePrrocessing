{
 "cells": [
  {
   "cell_type": "code",
   "execution_count": 1,
   "metadata": {},
   "outputs": [],
   "source": [
    "import re"
   ]
  },
  {
   "cell_type": "code",
   "execution_count": 8,
   "metadata": {},
   "outputs": [
    {
     "name": "stdout",
     "output_type": "stream",
     "text": [
      "['03003020167', '(92)-300-3020-167']\n"
     ]
    },
    {
     "name": "stderr",
     "output_type": "stream",
     "text": [
      "<>:2: SyntaxWarning: invalid escape sequence '\\d'\n",
      "<>:4: SyntaxWarning: invalid escape sequence '\\d'\n",
      "<>:2: SyntaxWarning: invalid escape sequence '\\d'\n",
      "<>:4: SyntaxWarning: invalid escape sequence '\\d'\n",
      "C:\\Users\\ARHAM KHAN\\AppData\\Local\\Temp\\ipykernel_15860\\1719390390.py:2: SyntaxWarning: invalid escape sequence '\\d'\n",
      "  pattern='\\d{11}|\\(\\d{2}\\)-\\d{3}-\\d{4}-\\d{3}'\n",
      "C:\\Users\\ARHAM KHAN\\AppData\\Local\\Temp\\ipykernel_15860\\1719390390.py:4: SyntaxWarning: invalid escape sequence '\\d'\n",
      "  matches=re.findall('\\d{11}|\\(\\d{2}\\)-\\d{3}-\\d{4}-\\d{3}',text)\n"
     ]
    }
   ],
   "source": [
    "text=\"My name is Arham Khan and my phone number is 03003020167 and other one is (92)-300-3020-167\"\n",
    "pattern='\\d{11}|\\(\\d{2}\\)-\\d{3}-\\d{4}-\\d{3}'\n",
    "matches=re.findall(pattern,text)\n",
    "print(matches)"
   ]
  },
  {
   "cell_type": "code",
   "execution_count": 16,
   "metadata": {},
   "outputs": [
    {
     "name": "stdout",
     "output_type": "stream",
     "text": [
      "President: Mamnoon HussainArif Alvi\n"
     ]
    }
   ],
   "source": []
  },
  {
   "cell_type": "code",
   "execution_count": 14,
   "metadata": {},
   "outputs": [
    {
     "data": {
      "text/plain": [
       "[]"
      ]
     },
     "execution_count": 14,
     "metadata": {},
     "output_type": "execute_result"
    }
   ],
   "source": [
    "# Name\n",
    "# age\n",
    "# DOB\n",
    "# Residence\n"
   ]
  },
  {
   "cell_type": "code",
   "execution_count": 17,
   "metadata": {},
   "outputs": [
    {
     "data": {
      "text/plain": [
       "'President :Mamnoon HussainArif Alvi'"
      ]
     },
     "execution_count": 17,
     "metadata": {},
     "output_type": "execute_result"
    }
   ],
   "source": [
    "text"
   ]
  },
  {
   "cell_type": "code",
   "execution_count": 22,
   "metadata": {},
   "outputs": [],
   "source": [
    "import requests\n",
    "from bs4 import BeautifulSoup\n",
    "\n",
    "def scrape_infobox(url):\n",
    "    # Send a request to the webpage\n",
    "    response = requests.get(url)\n",
    "    \n",
    "    # Check if the request was successful\n",
    "    if response.status_code != 200:\n",
    "        print(f\"Failed to fetch the page. Status code: {response.status_code}\")\n",
    "        return None\n",
    "\n",
    "    # Parse the HTML content of the page\n",
    "    soup = BeautifulSoup(response.content, 'html.parser')\n",
    "\n",
    "    # Locate the infobox\n",
    "    infobox = soup.find('table', {'class': 'infobox'})\n",
    "    if not infobox:\n",
    "        print(\"Infobox not found on the page.\")\n",
    "        return None\n",
    "\n",
    "    # Extract infobox contents into a dictionary\n",
    "    infobox_data = {}\n",
    "    for row in infobox.find_all('tr'):\n",
    "        header = row.find('th')  # Find the header (if present)\n",
    "        data = row.find('td')    # Find the data (if present)\n",
    "        \n",
    "        if header and data:\n",
    "            header_text = header.get_text(strip=True)\n",
    "            data_text = data.get_text(strip=True)\n",
    "            infobox_data[header_text] = data_text\n",
    "\n",
    "    return infobox_data\n",
    "\n",
    "if __name__ == \"__main__\":\n",
    "    # Replace with the URL of the page containing the infobox\n",
    "    url = \"https://en.wikipedia.org/wiki/Elon_Musk\"\n",
    "    info = scrape_infobox(url)\n",
    "    info_member=[]\n",
    "    if info:\n",
    "        for key, value in info.items():\n",
    "            info_member.append(f\"{key}: {value}\")"
   ]
  },
  {
   "cell_type": "code",
   "execution_count": 23,
   "metadata": {},
   "outputs": [
    {
     "data": {
      "text/plain": [
       "['Born: Elon Reeve Musk(1971-06-28)June 28, 1971(age\\xa053)Pretoria,Transvaal, South Africa',\n",
       " 'Citizenship: South AfricaCanadaUnited States (from 2002)',\n",
       " 'Education: University of Pennsylvania(BA,BS)',\n",
       " 'Occupation: Businessman',\n",
       " 'Title: Founder, CEO, and chief engineer ofSpaceXCEO and product architect ofTesla, Inc.Owner, CTO and executive chairman ofX (formerly Twitter)President of theMusk FoundationFounder ofThe Boring Company,X Corp., andxAICo-founder ofNeuralink,OpenAI,Zip2, andX.com(part ofPayPal)',\n",
       " 'Political party: Independent[citation needed]',\n",
       " 'Spouses: Justine Wilson\\u200b\\u200b(m.2000;div.2008)\\u200bTalulah Riley\\u200b\\u200b(m.2010;div.2012)\\u200b\\u200b\\u200b(m.2013;div.2016)\\u200b',\n",
       " 'Children: 12[1]',\n",
       " 'Parents: Errol MuskMaye Musk',\n",
       " 'Relatives: Kimbal Musk(brother)Tosca Musk(sister)Lyndon Rive(cousin)',\n",
       " 'Awards: Full list']"
      ]
     },
     "execution_count": 23,
     "metadata": {},
     "output_type": "execute_result"
    }
   ],
   "source": [
    "info_member"
   ]
  },
  {
   "cell_type": "code",
   "execution_count": 24,
   "metadata": {},
   "outputs": [
    {
     "ename": "TypeError",
     "evalue": "expected string or bytes-like object, got 'list'",
     "output_type": "error",
     "traceback": [
      "\u001b[1;31m---------------------------------------------------------------------------\u001b[0m",
      "\u001b[1;31mTypeError\u001b[0m                                 Traceback (most recent call last)",
      "Cell \u001b[1;32mIn[24], line 2\u001b[0m\n\u001b[0;32m      1\u001b[0m pattern\u001b[38;5;241m=\u001b[39m\u001b[38;5;124m'\u001b[39m\u001b[38;5;124mBorn[^[a-z]]\u001b[39m\u001b[38;5;124m'\u001b[39m\n\u001b[1;32m----> 2\u001b[0m \u001b[43mre\u001b[49m\u001b[38;5;241;43m.\u001b[39;49m\u001b[43mfindall\u001b[49m\u001b[43m(\u001b[49m\u001b[43mpattern\u001b[49m\u001b[43m,\u001b[49m\u001b[43minfo_member\u001b[49m\u001b[43m)\u001b[49m\n",
      "File \u001b[1;32m~\\AppData\\Local\\Programs\\Python\\Python312\\Lib\\re\\__init__.py:217\u001b[0m, in \u001b[0;36mfindall\u001b[1;34m(pattern, string, flags)\u001b[0m\n\u001b[0;32m    209\u001b[0m \u001b[38;5;28;01mdef\u001b[39;00m \u001b[38;5;21mfindall\u001b[39m(pattern, string, flags\u001b[38;5;241m=\u001b[39m\u001b[38;5;241m0\u001b[39m):\n\u001b[0;32m    210\u001b[0m \u001b[38;5;250m    \u001b[39m\u001b[38;5;124;03m\"\"\"Return a list of all non-overlapping matches in the string.\u001b[39;00m\n\u001b[0;32m    211\u001b[0m \n\u001b[0;32m    212\u001b[0m \u001b[38;5;124;03m    If one or more capturing groups are present in the pattern, return\u001b[39;00m\n\u001b[1;32m   (...)\u001b[0m\n\u001b[0;32m    215\u001b[0m \n\u001b[0;32m    216\u001b[0m \u001b[38;5;124;03m    Empty matches are included in the result.\"\"\"\u001b[39;00m\n\u001b[1;32m--> 217\u001b[0m     \u001b[38;5;28;01mreturn\u001b[39;00m \u001b[43m_compile\u001b[49m\u001b[43m(\u001b[49m\u001b[43mpattern\u001b[49m\u001b[43m,\u001b[49m\u001b[43m \u001b[49m\u001b[43mflags\u001b[49m\u001b[43m)\u001b[49m\u001b[38;5;241;43m.\u001b[39;49m\u001b[43mfindall\u001b[49m\u001b[43m(\u001b[49m\u001b[43mstring\u001b[49m\u001b[43m)\u001b[49m\n",
      "\u001b[1;31mTypeError\u001b[0m: expected string or bytes-like object, got 'list'"
     ]
    }
   ],
   "source": []
  },
  {
   "cell_type": "code",
   "execution_count": 25,
   "metadata": {},
   "outputs": [
    {
     "data": {
      "text/plain": [
       "'Born: Elon Reeve Musk(1971-06-28)June 28, 1971(age\\xa053)Pretoria,Transvaal, South AfricaCitizenship: South AfricaCanadaUnited States (from 2002)Education: University of Pennsylvania(BA,BS)Occupation: BusinessmanTitle: Founder, CEO, and chief engineer ofSpaceXCEO and product architect ofTesla, Inc.Owner, CTO and executive chairman ofX (formerly Twitter)President of theMusk FoundationFounder ofThe Boring Company,X Corp., andxAICo-founder ofNeuralink,OpenAI,Zip2, andX.com(part ofPayPal)Political party: Independent[citation needed]Spouses: Justine Wilson\\u200b\\u200b(m.2000;div.2008)\\u200bTalulah Riley\\u200b\\u200b(m.2010;div.2012)\\u200b\\u200b\\u200b(m.2013;div.2016)\\u200bChildren: 12[1]Parents: Errol MuskMaye MuskRelatives: Kimbal Musk(brother)Tosca Musk(sister)Lyndon Rive(cousin)Awards: Full list'"
      ]
     },
     "execution_count": 25,
     "metadata": {},
     "output_type": "execute_result"
    }
   ],
   "source": [
    "plain=\"\"\n",
    "for i in info_member:\n",
    "    plain+=i\n",
    "plain"
   ]
  },
  {
   "cell_type": "code",
   "execution_count": 33,
   "metadata": {},
   "outputs": [
    {
     "data": {
      "text/plain": [
       "[]"
      ]
     },
     "execution_count": 33,
     "metadata": {},
     "output_type": "execute_result"
    }
   ],
   "source": [
    "pattern='Born.\\\\(\\\\d'\n",
    "re.findall(pattern,plain)"
   ]
  },
  {
   "cell_type": "code",
   "execution_count": null,
   "metadata": {},
   "outputs": [],
   "source": []
  }
 ],
 "metadata": {
  "kernelspec": {
   "display_name": "venv",
   "language": "python",
   "name": "python3"
  },
  "language_info": {
   "codemirror_mode": {
    "name": "ipython",
    "version": 3
   },
   "file_extension": ".py",
   "mimetype": "text/x-python",
   "name": "python",
   "nbconvert_exporter": "python",
   "pygments_lexer": "ipython3",
   "version": "3.12.5"
  }
 },
 "nbformat": 4,
 "nbformat_minor": 2
}
