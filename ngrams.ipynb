{
 "cells": [
  {
   "cell_type": "code",
   "execution_count": 1,
   "metadata": {},
   "outputs": [],
   "source": [
    "from sklearn.feature_extraction.text import CountVectorizer"
   ]
  },
  {
   "cell_type": "code",
   "execution_count": 93,
   "metadata": {},
   "outputs": [
    {
     "data": {
      "text/plain": [
       "{'arham khan': 0,\n",
       " 'khan is': 5,\n",
       " 'is good': 3,\n",
       " 'good boy': 2,\n",
       " 'arham khan is': 1,\n",
       " 'khan is good': 6,\n",
       " 'is good boy': 4}"
      ]
     },
     "execution_count": 93,
     "metadata": {},
     "output_type": "execute_result"
    }
   ],
   "source": [
    "cv=CountVectorizer(ngram_range=(2,3))\n",
    "text=\"Arham khan is a good boy\"\n",
    "X=cv.fit([text])\n",
    "cv.vocabulary_"
   ]
  },
  {
   "cell_type": "code",
   "execution_count": 94,
   "metadata": {},
   "outputs": [],
   "source": [
    "corpus=[\n",
    "    \"Arham khan was eating pizza\",\n",
    "    \"Taimoor was a good boy\",\n",
    "    \"thor eat burger\",\n",
    "    \"hulk swallowing something different\"\n",
    "]"
   ]
  },
  {
   "cell_type": "code",
   "execution_count": 95,
   "metadata": {},
   "outputs": [],
   "source": [
    "import spacy\n",
    "nlp_Pipeline=spacy.load(\"en_core_web_sm\")\n",
    "def Preprocess(sent):\n",
    "    tokenize_doc=nlp_Pipeline(sent)\n",
    "    sent_lm=[token.lemma_ for token in tokenize_doc if not token.is_punct and not token.is_stop] #Apply Lemmatization\n",
    "    return ' '.join(sent_lm) "
   ]
  },
  {
   "cell_type": "code",
   "execution_count": 20,
   "metadata": {},
   "outputs": [],
   "source": [
    "corpus_processed=[Preprocess(sent) for sent in corpus]"
   ]
  },
  {
   "cell_type": "code",
   "execution_count": 21,
   "metadata": {},
   "outputs": [
    {
     "data": {
      "text/plain": [
       "['Arham khan eat pizza',\n",
       " 'taimoor good boy',\n",
       " 'thor eat burger',\n",
       " 'hulk swallow different']"
      ]
     },
     "execution_count": 21,
     "metadata": {},
     "output_type": "execute_result"
    }
   ],
   "source": [
    "corpus_processed"
   ]
  },
  {
   "cell_type": "code",
   "execution_count": 22,
   "metadata": {},
   "outputs": [],
   "source": [
    "X=cv.fit(corpus_processed)"
   ]
  },
  {
   "cell_type": "code",
   "execution_count": 23,
   "metadata": {},
   "outputs": [
    {
     "data": {
      "text/plain": [
       "{'arham': 0,\n",
       " 'khan': 12,\n",
       " 'eat': 5,\n",
       " 'pizza': 14,\n",
       " 'arham khan': 1,\n",
       " 'khan eat': 13,\n",
       " 'eat pizza': 7,\n",
       " 'taimoor': 17,\n",
       " 'good': 8,\n",
       " 'boy': 2,\n",
       " 'taimoor good': 18,\n",
       " 'good boy': 9,\n",
       " 'thor': 19,\n",
       " 'burger': 3,\n",
       " 'thor eat': 20,\n",
       " 'eat burger': 6,\n",
       " 'hulk': 10,\n",
       " 'swallow': 15,\n",
       " 'different': 4,\n",
       " 'hulk swallow': 11,\n",
       " 'swallow different': 16}"
      ]
     },
     "execution_count": 23,
     "metadata": {},
     "output_type": "execute_result"
    }
   ],
   "source": [
    "X.vocabulary_"
   ]
  },
  {
   "cell_type": "code",
   "execution_count": 24,
   "metadata": {},
   "outputs": [
    {
     "data": {
      "text/plain": [
       "array([[1, 0, 0, 0, 0, 0, 0, 0, 0, 0, 0, 0, 0, 0, 0, 0, 0, 0, 0, 0, 0]])"
      ]
     },
     "execution_count": 24,
     "metadata": {},
     "output_type": "execute_result"
    }
   ],
   "source": [
    "X.transform([\"Hooria is friend of Arham\"]).toarray()"
   ]
  },
  {
   "cell_type": "code",
   "execution_count": 25,
   "metadata": {},
   "outputs": [],
   "source": [
    "import pandas as pd\n",
    "df=pd.read_json(\"news_dataset.json\")"
   ]
  },
  {
   "cell_type": "code",
   "execution_count": 26,
   "metadata": {},
   "outputs": [
    {
     "data": {
      "text/html": [
       "<div>\n",
       "<style scoped>\n",
       "    .dataframe tbody tr th:only-of-type {\n",
       "        vertical-align: middle;\n",
       "    }\n",
       "\n",
       "    .dataframe tbody tr th {\n",
       "        vertical-align: top;\n",
       "    }\n",
       "\n",
       "    .dataframe thead th {\n",
       "        text-align: right;\n",
       "    }\n",
       "</style>\n",
       "<table border=\"1\" class=\"dataframe\">\n",
       "  <thead>\n",
       "    <tr style=\"text-align: right;\">\n",
       "      <th></th>\n",
       "      <th>text</th>\n",
       "      <th>category</th>\n",
       "    </tr>\n",
       "  </thead>\n",
       "  <tbody>\n",
       "    <tr>\n",
       "      <th>0</th>\n",
       "      <td>Watching Schrödinger's Cat Die University of C...</td>\n",
       "      <td>SCIENCE</td>\n",
       "    </tr>\n",
       "    <tr>\n",
       "      <th>1</th>\n",
       "      <td>WATCH: Freaky Vortex Opens Up In Flooded Lake</td>\n",
       "      <td>SCIENCE</td>\n",
       "    </tr>\n",
       "    <tr>\n",
       "      <th>2</th>\n",
       "      <td>Entrepreneurs Today Don't Need a Big Budget to...</td>\n",
       "      <td>BUSINESS</td>\n",
       "    </tr>\n",
       "    <tr>\n",
       "      <th>3</th>\n",
       "      <td>These Roads Could Recharge Your Electric Car A...</td>\n",
       "      <td>BUSINESS</td>\n",
       "    </tr>\n",
       "    <tr>\n",
       "      <th>4</th>\n",
       "      <td>Civilian 'Guard' Fires Gun While 'Protecting' ...</td>\n",
       "      <td>CRIME</td>\n",
       "    </tr>\n",
       "  </tbody>\n",
       "</table>\n",
       "</div>"
      ],
      "text/plain": [
       "                                                text  category\n",
       "0  Watching Schrödinger's Cat Die University of C...   SCIENCE\n",
       "1     WATCH: Freaky Vortex Opens Up In Flooded Lake    SCIENCE\n",
       "2  Entrepreneurs Today Don't Need a Big Budget to...  BUSINESS\n",
       "3  These Roads Could Recharge Your Electric Car A...  BUSINESS\n",
       "4  Civilian 'Guard' Fires Gun While 'Protecting' ...     CRIME"
      ]
     },
     "execution_count": 26,
     "metadata": {},
     "output_type": "execute_result"
    }
   ],
   "source": [
    "df.head()"
   ]
  },
  {
   "cell_type": "code",
   "execution_count": 28,
   "metadata": {},
   "outputs": [
    {
     "data": {
      "text/plain": [
       "category\n",
       "BUSINESS    4254\n",
       "SPORTS      4167\n",
       "CRIME       2893\n",
       "SCIENCE     1381\n",
       "Name: count, dtype: int64"
      ]
     },
     "execution_count": 28,
     "metadata": {},
     "output_type": "execute_result"
    }
   ],
   "source": [
    "df.category.value_counts()"
   ]
  },
  {
   "cell_type": "code",
   "execution_count": 29,
   "metadata": {},
   "outputs": [
    {
     "data": {
      "text/plain": [
       "text        0\n",
       "category    0\n",
       "dtype: int64"
      ]
     },
     "execution_count": 29,
     "metadata": {},
     "output_type": "execute_result"
    }
   ],
   "source": [
    "df.isnull().sum()"
   ]
  },
  {
   "cell_type": "code",
   "execution_count": 35,
   "metadata": {},
   "outputs": [],
   "source": [
    "df_bs=df[df.category == \"BUSINESS\"]\n",
    "df_sp=df[df.category == \"SPORTS\"]\n",
    "df_c=df[df.category == \"CRIME\"]\n",
    "df_s=df[df.category == \"SCIENCE\"]\n",
    "df_bs=df_bs.sample(df_s.shape[0])\n",
    "df_sp=df_sp.sample(df_s.shape[0])\n",
    "df_c=df_c.sample(df_s.shape[0])\n",
    "df=pd.concat([df_c,df_sp,df_bs,df_s])"
   ]
  },
  {
   "cell_type": "code",
   "execution_count": 36,
   "metadata": {},
   "outputs": [
    {
     "data": {
      "text/plain": [
       "category\n",
       "CRIME       1381\n",
       "SPORTS      1381\n",
       "BUSINESS    1381\n",
       "SCIENCE     1381\n",
       "Name: count, dtype: int64"
      ]
     },
     "execution_count": 36,
     "metadata": {},
     "output_type": "execute_result"
    }
   ],
   "source": [
    "df.category.value_counts()"
   ]
  },
  {
   "cell_type": "code",
   "execution_count": 39,
   "metadata": {},
   "outputs": [],
   "source": [
    "df[\"category_num\"]=df['category'].apply(lambda x : 0 if x == \"BUSINESS\" else 1 if x == \"CRIME\" else 2 if x == \"SCIENCE\" else 3 if x == \"SPORTS\" else \"no\")"
   ]
  },
  {
   "cell_type": "code",
   "execution_count": 41,
   "metadata": {},
   "outputs": [
    {
     "data": {
      "text/plain": [
       "category_num\n",
       "1    1381\n",
       "3    1381\n",
       "0    1381\n",
       "2    1381\n",
       "Name: count, dtype: int64"
      ]
     },
     "execution_count": 41,
     "metadata": {},
     "output_type": "execute_result"
    }
   ],
   "source": [
    "df.category_num.value_counts()"
   ]
  },
  {
   "cell_type": "code",
   "execution_count": 57,
   "metadata": {},
   "outputs": [],
   "source": [
    "df['text_preprocess']=df['text'].apply(Preprocess)"
   ]
  },
  {
   "cell_type": "code",
   "execution_count": 58,
   "metadata": {},
   "outputs": [
    {
     "data": {
      "text/html": [
       "<div>\n",
       "<style scoped>\n",
       "    .dataframe tbody tr th:only-of-type {\n",
       "        vertical-align: middle;\n",
       "    }\n",
       "\n",
       "    .dataframe tbody tr th {\n",
       "        vertical-align: top;\n",
       "    }\n",
       "\n",
       "    .dataframe thead th {\n",
       "        text-align: right;\n",
       "    }\n",
       "</style>\n",
       "<table border=\"1\" class=\"dataframe\">\n",
       "  <thead>\n",
       "    <tr style=\"text-align: right;\">\n",
       "      <th></th>\n",
       "      <th>text</th>\n",
       "      <th>category</th>\n",
       "      <th>category_num</th>\n",
       "      <th>text_preprocess</th>\n",
       "    </tr>\n",
       "  </thead>\n",
       "  <tbody>\n",
       "    <tr>\n",
       "      <th>7982</th>\n",
       "      <td>Suspect In Murder Of Pregnant Mother Added To ...</td>\n",
       "      <td>CRIME</td>\n",
       "      <td>1</td>\n",
       "      <td>suspect murder Pregnant Mother add FBI Wanted ...</td>\n",
       "    </tr>\n",
       "    <tr>\n",
       "      <th>10214</th>\n",
       "      <td>The Inevitable Happens After Man Drives Drunk ...</td>\n",
       "      <td>CRIME</td>\n",
       "      <td>1</td>\n",
       "      <td>inevitable Happens man drive Drunk Police Job ...</td>\n",
       "    </tr>\n",
       "    <tr>\n",
       "      <th>4300</th>\n",
       "      <td>Suspect In Murder Of Louisiana Cop Arrested Af...</td>\n",
       "      <td>CRIME</td>\n",
       "      <td>1</td>\n",
       "      <td>suspect murder Louisiana Cop arrest Manhunt su...</td>\n",
       "    </tr>\n",
       "    <tr>\n",
       "      <th>273</th>\n",
       "      <td>Bodies Of Missing California Veteran And Dog B...</td>\n",
       "      <td>CRIME</td>\n",
       "      <td>1</td>\n",
       "      <td>body miss California Veteran Dog Believed Foun...</td>\n",
       "    </tr>\n",
       "    <tr>\n",
       "      <th>3826</th>\n",
       "      <td>Human Remains Found In Search For Hannah Graham</td>\n",
       "      <td>CRIME</td>\n",
       "      <td>1</td>\n",
       "      <td>human remain find Search Hannah Graham</td>\n",
       "    </tr>\n",
       "  </tbody>\n",
       "</table>\n",
       "</div>"
      ],
      "text/plain": [
       "                                                    text  ...                                    text_preprocess\n",
       "7982   Suspect In Murder Of Pregnant Mother Added To ...  ...  suspect murder Pregnant Mother add FBI Wanted ...\n",
       "10214  The Inevitable Happens After Man Drives Drunk ...  ...  inevitable Happens man drive Drunk Police Job ...\n",
       "4300   Suspect In Murder Of Louisiana Cop Arrested Af...  ...  suspect murder Louisiana Cop arrest Manhunt su...\n",
       "273    Bodies Of Missing California Veteran And Dog B...  ...  body miss California Veteran Dog Believed Foun...\n",
       "3826    Human Remains Found In Search For Hannah Graham   ...             human remain find Search Hannah Graham\n",
       "\n",
       "[5 rows x 4 columns]"
      ]
     },
     "execution_count": 58,
     "metadata": {},
     "output_type": "execute_result"
    }
   ],
   "source": [
    "df.head()"
   ]
  },
  {
   "cell_type": "code",
   "execution_count": 59,
   "metadata": {},
   "outputs": [],
   "source": [
    "from sklearn.model_selection import train_test_split\n",
    "X_train,X_test,y_train,y_test=train_test_split(df.text_preprocess,df.category_num,test_size=0.2,random_state=42,stratify=df.category_num)"
   ]
  },
  {
   "cell_type": "code",
   "execution_count": 129,
   "metadata": {},
   "outputs": [],
   "source": [
    "from sklearn.naive_bayes import MultinomialNB\n",
    "from sklearn.pipeline import Pipeline\n",
    "from sklearn.metrics import classification_report,confusion_matrix,accuracy_score,precision_score,recall_score,f1_score\n",
    "from sklearn.linear_model import LogisticRegression\n",
    "from sklearn.ensemble import RandomForestClassifier\n",
    "\n",
    "clf=Pipeline(\n",
    "    [\n",
    "        (\"Vectorizer\",CountVectorizer(ngram_range=(1,2))),\n",
    "        (\"NaiveBaysClassifier\",MultinomialNB())\n",
    "    ]\n",
    ")"
   ]
  },
  {
   "cell_type": "code",
   "execution_count": 130,
   "metadata": {},
   "outputs": [],
   "source": [
    "clf=clf.fit(X_train,y_train)"
   ]
  },
  {
   "cell_type": "code",
   "execution_count": 131,
   "metadata": {},
   "outputs": [],
   "source": [
    "y_pred=clf.predict(X_test)"
   ]
  },
  {
   "cell_type": "code",
   "execution_count": 132,
   "metadata": {},
   "outputs": [
    {
     "name": "stdout",
     "output_type": "stream",
     "text": [
      "Unique values in y_test: [0 1 2 3]\n",
      "Unique values in y_pred: [0 1 2 3]\n"
     ]
    }
   ],
   "source": [
    "import numpy as np\n",
    "\n",
    "print(\"Unique values in y_test:\", np.unique(y_test))\n",
    "print(\"Unique values in y_pred:\", np.unique(y_pred))"
   ]
  },
  {
   "cell_type": "code",
   "execution_count": 133,
   "metadata": {},
   "outputs": [
    {
     "data": {
      "text/plain": [
       "((1105,), (1105,))"
      ]
     },
     "execution_count": 133,
     "metadata": {},
     "output_type": "execute_result"
    }
   ],
   "source": [
    "y_pred.shape,y_test.shape"
   ]
  },
  {
   "cell_type": "code",
   "execution_count": 134,
   "metadata": {},
   "outputs": [],
   "source": [
    "import seaborn as sn\n",
    "import matplotlib.pyplot as plt\n",
    "def Evaluator(model,X_train,Y_train,X_test,Y_test):\n",
    "    Y_pred=model.predict(X_test)\n",
    "\n",
    "    accuracy= accuracy_score(y_test, y_pred)\n",
    "    pred = precision_score(y_test, y_pred, average='weighted', labels=[0, 1, 2, 3])\n",
    "    rec = recall_score(y_test, y_pred, average='weighted', labels=[0, 1, 2, 3])\n",
    "    f1 = f1_score(y_test, y_pred, average='weighted', labels=[0, 1, 2, 3])\n",
    "\n",
    "    print(\n",
    "          f\"Accuracy : {accuracy}\\nPrecision : {pred}\\nRecall : {rec}\\nF1-Score : {f1}\" )\n",
    "    print(classification_report(Y_test,Y_pred))\n",
    "    cm=confusion_matrix(Y_test,Y_pred)\n",
    "    plt.figure(figsize=(10,7))\n",
    "    sn.heatmap(cm,annot=True)\n",
    "    plt.show()"
   ]
  },
  {
   "cell_type": "code",
   "execution_count": 135,
   "metadata": {},
   "outputs": [
    {
     "name": "stdout",
     "output_type": "stream",
     "text": [
      "Accuracy : 0.8769230769230769\n",
      "Precision : 0.880927369235449\n",
      "Recall : 0.8769230769230769\n",
      "F1-Score : 0.8774479254339643\n",
      "              precision    recall  f1-score   support\n",
      "\n",
      "           0       0.82      0.89      0.85       276\n",
      "           1       0.85      0.91      0.88       276\n",
      "           2       0.91      0.83      0.87       277\n",
      "           3       0.95      0.87      0.91       276\n",
      "\n",
      "    accuracy                           0.88      1105\n",
      "   macro avg       0.88      0.88      0.88      1105\n",
      "weighted avg       0.88      0.88      0.88      1105\n",
      "\n"
     ]
    },
    {
     "data": {
      "image/png": "[encoded data removed]",
      "text/plain": [
       "<Figure size 1000x700 with 2 Axes>"
      ]
     },
     "metadata": {},
     "output_type": "display_data"
    }
   ],
   "source": [
    "Evaluator(clf,X_train,y_train,X_test,y_test)"
   ]
  },
  {
   "cell_type": "code",
   "execution_count": null,
   "metadata": {},
   "outputs": [],
   "source": []
  }
 ],
 "metadata": {
  "kernelspec": {
   "display_name": "venv",
   "language": "python",
   "name": "python3"
  },
  "language_info": {
   "codemirror_mode": {
    "name": "ipython",
    "version": 3
   },
   "file_extension": ".py",
   "mimetype": "text/x-python",
   "name": "python",
   "nbconvert_exporter": "python",
   "pygments_lexer": "ipython3",
   "version": "3.12.5"
  }
 },
 "nbformat": 4,
 "nbformat_minor": 2
}
